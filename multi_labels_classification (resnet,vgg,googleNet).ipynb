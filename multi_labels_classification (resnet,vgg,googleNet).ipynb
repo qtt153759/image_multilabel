{
  "cells": [
    {
      "cell_type": "code",
      "execution_count": null,
      "metadata": {
        "id": "Qy3G1gwd0h2M"
      },
      "outputs": [],
      "source": [
        "import numpy as np\n",
        "import pandas as pd\n",
        "from matplotlib import pyplot as plt\n",
        "from torchvision import datasets, transforms\n",
        "from torch.utils.data import Dataset, DataLoader\n",
        "import os\n",
        "\n",
        "import torch\n",
        "from torch import nn\n",
        "from torch import optim\n",
        "import torch.nn.functional as F\n",
        "import torchvision\n",
        "from PIL import Image\n",
        "import PIL\n",
        "# moves your model to train on your gpu if available else it uses your cpu\n",
        "device = (\"cuda\" if torch.cuda.is_available() else \"cpu\")"
      ]
    },
    {
      "cell_type": "code",
      "source": [
        "from google.colab import drive\n",
        "drive.mount('/content/drive')"
      ],
      "metadata": {
        "colab": {
          "base_uri": "https://localhost:8080/"
        },
        "id": "J6-pKgcWLyVP",
        "outputId": "00bff926-3f04-4bb7-e883-9ffe145be75f"
      },
      "execution_count": null,
      "outputs": [
        {
          "output_type": "stream",
          "name": "stdout",
          "text": [
            "Drive already mounted at /content/drive; to attempt to forcibly remount, call drive.mount(\"/content/drive\", force_remount=True).\n"
          ]
        }
      ]
    },
    {
      "cell_type": "markdown",
      "source": [
        "# **Read anotation**"
      ],
      "metadata": {
        "id": "Bx81J1wW9Hhz"
      }
    },
    {
      "cell_type": "code",
      "execution_count": null,
      "metadata": {
        "id": "klYuDrK_Yfj4"
      },
      "outputs": [],
      "source": [
        "training_anot = pd.read_csv('/content/drive/MyDrive/multilabels_data/trainset/labels.csv')\n",
        "testing_anot = pd.read_csv('/content/drive/MyDrive/multilabels_data/testset/labels.csv')"
      ]
    },
    {
      "cell_type": "code",
      "source": [
        "# Class Distribution Visualization\n",
        "def stat(anot):\n",
        "    statistic = {\"HG\": sum(anot[\"HG\"]), \"HT\": sum(anot[\"HT\"]), \"TR\": sum(anot[\"TR\"]), \"CTH\": sum(anot[\"CTH\"]), \"BD\": sum(anot[\"BD\"]),\n",
        "                \"VH\": sum(anot[\"VH\"]), \"CTQ\": sum(anot[\"CTQ\"]), \"DQT\": sum(anot[\"DQT\"]), \"KS\": sum(anot[\"KS\"]), \"CVN\": sum(anot[\"CVN\"])}\n",
        "    plt.bar(list(statistic.keys()), list(statistic.values()))\n",
        "\n",
        "stat(training_anot)"
      ],
      "metadata": {
        "colab": {
          "base_uri": "https://localhost:8080/",
          "height": 430
        },
        "id": "HIo1syYM4kBx",
        "outputId": "c3b8ad25-f6e1-4a7a-f1b6-75f7cdedcdbe"
      },
      "execution_count": null,
      "outputs": [
        {
          "output_type": "display_data",
          "data": {
            "text/plain": [
              "<Figure size 640x480 with 1 Axes>"
            ],
            "image/png": "[encoded data removed]"
          },
          "metadata": {}
        }
      ]
    },
    {
      "cell_type": "markdown",
      "source": [
        "# **Custom DataLoader**"
      ],
      "metadata": {
        "id": "yWvJwLmG9lBC"
      }
    },
    {
      "cell_type": "code",
      "execution_count": null,
      "metadata": {
        "id": "Zn08lfEc2kkQ"
      },
      "outputs": [],
      "source": [
        "class CustomDataset(Dataset):\n",
        "    def __init__(self, anot, transforms=None, training=True):\n",
        "        super().__init__()\n",
        "        self.anot = anot\n",
        "        self.transforms = transforms\n",
        "        self.training = training\n",
        "\n",
        "    def __len__(self):\n",
        "        return len(self.anot)\n",
        "\n",
        "    def __getitem__(self, idx):\n",
        "        if self.training:\n",
        "            img_path = \"/content/drive/MyDrive/multilabels_data/trainset/\" + self.anot['name'][idx]\n",
        "        else:\n",
        "            img_path = \"/content/drive/MyDrive/multilabels_data/testset/\" + self.anot['name'][idx]\n",
        "\n",
        "        label = torch.tensor(self.anot.iloc[idx][1:]).type(torch.FloatTensor)\n",
        "        image = Image.open(img_path)\n",
        "\n",
        "        if self.transforms:\n",
        "            image = torch.tensor(self.transforms(image).float())\n",
        "\n",
        "        return image, label"
      ]
    },
    {
      "cell_type": "code",
      "execution_count": null,
      "metadata": {
        "id": "IU9V1BRqcEbZ"
      },
      "outputs": [],
      "source": [
        "# define transforms and generate dataloader\n",
        "trans = {\"train\": transforms.Compose([\n",
        "                            transforms.CenterCrop(224),\n",
        "                            torchvision.transforms.ColorJitter(hue=.05, saturation=.05),\n",
        "                            torchvision.transforms.RandomHorizontalFlip(),\n",
        "                            # torchvision.transforms.RandomRotation(20, interpolation=PIL.Image.BILINEAR),\n",
        "                            transforms.ToTensor(),\n",
        "                            transforms.Normalize([0.485, 0.456, 0.406], [0.229, 0.224, 0.225])\n",
        "                            ]),\n",
        "         \"val\": transforms.Compose([\n",
        "                            transforms.CenterCrop(224),\n",
        "                            transforms.ToTensor(),\n",
        "                            transforms.Normalize([0.485, 0.456, 0.406], [0.229, 0.224, 0.225])\n",
        "                            ])}\n",
        "\n",
        "traindataset = CustomDataset(training_anot, transforms=trans[\"train\"])\n",
        "valdataset = CustomDataset(testing_anot, transforms=trans[\"val\"], training=False)\n",
        "trainloader = DataLoader(dataset=traindataset, batch_size=64, shuffle=True)\n",
        "valloader = DataLoader(dataset=valdataset, batch_size=64, shuffle=True)"
      ]
    },
    {
      "cell_type": "markdown",
      "source": [
        "# **Fine tuning pretrained model**"
      ],
      "metadata": {
        "id": "L2ZxqbQ5-HEe"
      }
    },
    {
      "cell_type": "markdown",
      "source": [
        "### Load pretrained model"
      ],
      "metadata": {
        "id": "d6BrSj9P-bSQ"
      }
    },
    {
      "cell_type": "code",
      "execution_count": null,
      "metadata": {
        "id": "nLkNBS5dsf5X",
        "colab": {
          "base_uri": "https://localhost:8080/"
        },
        "outputId": "7d435e38-b5f9-4abd-e272-caff72278244"
      },
      "outputs": [
        {
          "output_type": "stream",
          "name": "stderr",
          "text": [
            "/usr/local/lib/python3.10/dist-packages/torchvision/models/_utils.py:208: UserWarning: The parameter 'pretrained' is deprecated since 0.13 and may be removed in the future, please use 'weights' instead.\n",
            "  warnings.warn(\n",
            "/usr/local/lib/python3.10/dist-packages/torchvision/models/_utils.py:223: UserWarning: Arguments other than a weight enum or `None` for 'weights' are deprecated since 0.13 and may be removed in the future. The current behavior is equivalent to passing `weights=VGG16_Weights.IMAGENET1K_V1`. You can also use `weights=VGG16_Weights.DEFAULT` to get the most up-to-date weights.\n",
            "  warnings.warn(msg)\n"
          ]
        }
      ],
      "source": [
        "from torchvision import models\n",
        "net = models.vgg16(pretrained=True)"
      ]
    },
    {
      "cell_type": "code",
      "execution_count": null,
      "metadata": {
        "id": "APc0FA0us4Ld",
        "colab": {
          "base_uri": "https://localhost:8080/"
        },
        "outputId": "d9f47819-2a80-4d98-ff52-44757b7252f0"
      },
      "outputs": [
        {
          "output_type": "stream",
          "name": "stdout",
          "text": [
            "VGG(\n",
            "  (features): Sequential(\n",
            "    (0): Conv2d(3, 64, kernel_size=(3, 3), stride=(1, 1), padding=(1, 1))\n",
            "    (1): ReLU(inplace=True)\n",
            "    (2): Conv2d(64, 64, kernel_size=(3, 3), stride=(1, 1), padding=(1, 1))\n",
            "    (3): ReLU(inplace=True)\n",
            "    (4): MaxPool2d(kernel_size=2, stride=2, padding=0, dilation=1, ceil_mode=False)\n",
            "    (5): Conv2d(64, 128, kernel_size=(3, 3), stride=(1, 1), padding=(1, 1))\n",
            "    (6): ReLU(inplace=True)\n",
            "    (7): Conv2d(128, 128, kernel_size=(3, 3), stride=(1, 1), padding=(1, 1))\n",
            "    (8): ReLU(inplace=True)\n",
            "    (9): MaxPool2d(kernel_size=2, stride=2, padding=0, dilation=1, ceil_mode=False)\n",
            "    (10): Conv2d(128, 256, kernel_size=(3, 3), stride=(1, 1), padding=(1, 1))\n",
            "    (11): ReLU(inplace=True)\n",
            "    (12): Conv2d(256, 256, kernel_size=(3, 3), stride=(1, 1), padding=(1, 1))\n",
            "    (13): ReLU(inplace=True)\n",
            "    (14): Conv2d(256, 256, kernel_size=(3, 3), stride=(1, 1), padding=(1, 1))\n",
            "    (15): ReLU(inplace=True)\n",
            "    (16): MaxPool2d(kernel_size=2, stride=2, padding=0, dilation=1, ceil_mode=False)\n",
            "    (17): Conv2d(256, 512, kernel_size=(3, 3), stride=(1, 1), padding=(1, 1))\n",
            "    (18): ReLU(inplace=True)\n",
            "    (19): Conv2d(512, 512, kernel_size=(3, 3), stride=(1, 1), padding=(1, 1))\n",
            "    (20): ReLU(inplace=True)\n",
            "    (21): Conv2d(512, 512, kernel_size=(3, 3), stride=(1, 1), padding=(1, 1))\n",
            "    (22): ReLU(inplace=True)\n",
            "    (23): MaxPool2d(kernel_size=2, stride=2, padding=0, dilation=1, ceil_mode=False)\n",
            "    (24): Conv2d(512, 512, kernel_size=(3, 3), stride=(1, 1), padding=(1, 1))\n",
            "    (25): ReLU(inplace=True)\n",
            "    (26): Conv2d(512, 512, kernel_size=(3, 3), stride=(1, 1), padding=(1, 1))\n",
            "    (27): ReLU(inplace=True)\n",
            "    (28): Conv2d(512, 512, kernel_size=(3, 3), stride=(1, 1), padding=(1, 1))\n",
            "    (29): ReLU(inplace=True)\n",
            "    (30): MaxPool2d(kernel_size=2, stride=2, padding=0, dilation=1, ceil_mode=False)\n",
            "  )\n",
            "  (avgpool): AdaptiveAvgPool2d(output_size=(7, 7))\n",
            "  (classifier): Sequential(\n",
            "    (0): Linear(in_features=25088, out_features=4096, bias=True)\n",
            "    (1): ReLU(inplace=True)\n",
            "    (2): Dropout(p=0.5, inplace=False)\n",
            "    (3): Linear(in_features=4096, out_features=4096, bias=True)\n",
            "    (4): ReLU(inplace=True)\n",
            "    (5): Dropout(p=0.5, inplace=False)\n",
            "    (6): Linear(in_features=4096, out_features=1000, bias=True)\n",
            "  )\n",
            ")\n"
          ]
        }
      ],
      "source": [
        "print(net)"
      ]
    },
    {
      "cell_type": "markdown",
      "source": [
        "### Fine-tune"
      ],
      "metadata": {
        "id": "z3x-X3dB-hy0"
      }
    },
    {
      "cell_type": "code",
      "execution_count": null,
      "metadata": {
        "id": "sZkN-PtihnOa"
      },
      "outputs": [],
      "source": [
        "from torch.nn.modules.activation import Sigmoid\n",
        "net.classifier = nn.Sequential(\n",
        "    nn.Linear(in_features=25088, out_features=4096),\n",
        "    nn.ReLU(),\n",
        "    nn.Dropout(0.2),\n",
        "    nn.Linear(4096, 4096),\n",
        "    nn.ReLU(),\n",
        "    nn.Dropout(0.2),\n",
        "    nn.Linear(4096, 10),\n",
        "    nn.Sigmoid()\n",
        ")"
      ]
    },
    {
      "cell_type": "code",
      "execution_count": null,
      "metadata": {
        "id": "QVN-kALOjv3D"
      },
      "outputs": [],
      "source": [
        "print(net)"
      ]
    },
    {
      "cell_type": "code",
      "execution_count": null,
      "metadata": {
        "id": "G0UpV28Vsqj2"
      },
      "outputs": [],
      "source": [
        "# select param to update\n",
        "def params_to_update(net):\n",
        "    params_to_update_1 = []\n",
        "    params_to_update_2 = []\n",
        "    params_to_update_3 = []\n",
        "\n",
        "    for name, param in net.named_parameters():\n",
        "        # GoogleNet\n",
        "        # if \"fc\" in name:\n",
        "        #     param.requires_grad = True\n",
        "        #     params_to_update_3.append(param)\n",
        "        # else:\n",
        "        #     param.requires_grad = True\n",
        "        #     params_to_update_2.append(param)\n",
        "\n",
        "        # VGG16\n",
        "        if \"features\" in name:\n",
        "            param.requires_grad = True\n",
        "            params_to_update_2.append(param)\n",
        "        else:\n",
        "            param.requires_grad = True\n",
        "        #     params_to_update_3.append(param)\n",
        "\n",
        "        # Resnet50\n",
        "        # if \"conv1\" in name:\n",
        "        #     param.requires_grad = True\n",
        "        #     params_to_update_1.append(param)\n",
        "        # elif (\"layer1\" in name) or (\"layer2\" in name) or (\"layer3\" in name) or (\"layer4\" in name):\n",
        "        #     param.requires_grad = True\n",
        "        #     params_to_update_2.append(param)\n",
        "        # else:\n",
        "        #     param.requires_grad = True\n",
        "        #     params_to_update_3.append(param)\n",
        "\n",
        "    return params_to_update_1, params_to_update_2, params_to_update_3"
      ]
    },
    {
      "cell_type": "markdown",
      "source": [
        "### define optimizer and loss function"
      ],
      "metadata": {
        "id": "Ze9I58Ve-pAg"
      }
    },
    {
      "cell_type": "code",
      "execution_count": null,
      "metadata": {
        "id": "DX598foGn3mE"
      },
      "outputs": [],
      "source": [
        "param1, param2, param3 = params_to_update(net)\n",
        "\n",
        "optimizer = optim.Adam([{'params': param1, 'lr': 0.00001},\n",
        "                        {'params': param2, 'lr': 0.00005},\n",
        "                        {'params': param3, 'lr': 0.0001}])\n",
        "\n",
        "loss_func = nn.BCELoss()\n"
      ]
    },
    {
      "cell_type": "code",
      "source": [
        "print(f\"Number of parameters: {sum(p.numel() for p in net.parameters() if p.requires_grad)}\")"
      ],
      "metadata": {
        "colab": {
          "base_uri": "https://localhost:8080/"
        },
        "id": "M3IIeCoowe2M",
        "outputId": "18a6de1e-cff6-4173-888e-333bef266ad4"
      },
      "execution_count": null,
      "outputs": [
        {
          "output_type": "stream",
          "name": "stdout",
          "text": [
            "Number of parameters: 134301514\n"
          ]
        }
      ]
    },
    {
      "cell_type": "code",
      "source": [
        "import time"
      ],
      "metadata": {
        "id": "MxFeCjZXkza3"
      },
      "execution_count": null,
      "outputs": []
    },
    {
      "cell_type": "markdown",
      "metadata": {
        "id": "q-0U3TGQqfgW"
      },
      "source": [
        "# **Train**"
      ]
    },
    {
      "cell_type": "code",
      "execution_count": null,
      "metadata": {
        "id": "fYBbyD2fqjPw"
      },
      "outputs": [],
      "source": [
        "epochs = 50 # The total number of iterations\n",
        "threshold = 0.5\n",
        "t1 = time.time()\n",
        "\n",
        "min_val_loss = 1e9\n",
        "train_losses = []\n",
        "val_losses = []\n",
        "\n",
        "net = net.to(device)\n",
        "\n",
        "for epoch in range(epochs):\n",
        "    # prep model for training\n",
        "    net.train()\n",
        "    train_loss = 0\n",
        "\n",
        "    for images, labels in trainloader:\n",
        "\n",
        "        # Send these >>> To GPU\n",
        "        images = images.to(device)\n",
        "        labels = labels.to(device)\n",
        "\n",
        "        # Training pass\n",
        "        optimizer.zero_grad()\n",
        "\n",
        "        # Forward pass\n",
        "        output = net(images)\n",
        "        loss = loss_func(output, labels)\n",
        "        # loss.requires_grad = True\n",
        "\n",
        "        #Backward pass\n",
        "        loss.backward()\n",
        "        optimizer.step()\n",
        "\n",
        "        train_loss += loss.item()\n",
        "\n",
        "    else:\n",
        "        # prep model for evaluation\n",
        "        net.eval()\n",
        "        val_loss = 0\n",
        "        accuracy = 0\n",
        "        b_accuracy = 0\n",
        "\n",
        "        # Turn off the gradients when performing validation.\n",
        "        # If we don't turn it off, we will comprise our networks weight entirely\n",
        "        with torch.no_grad():\n",
        "            for images, labels in valloader:\n",
        "\n",
        "                images = images.to(device)\n",
        "                labels = labels.to(device)\n",
        "\n",
        "                outs = net(images)\n",
        "                # print(log_probabilities.shape, labels.shape)\n",
        "                # print(log_probabilities[0], labels[0])\n",
        "                val_loss += loss_func(outs, labels)\n",
        "                if val_loss < min_val_loss:\n",
        "                    min_val_loss = val_loss\n",
        "                    torch.save(net, '/content/drive/MyDrive/multilabels_data/vgg16.pth')\n",
        "\n",
        "                out_labels = (outs >= threshold).type(torch.IntTensor)\n",
        "                out_labels = out_labels.to(device)\n",
        "                predictions = out_labels == labels.view(out_labels.shape)\n",
        "                pred = predictions.cpu()\n",
        "                eval = [sum(label) for label in pred]\n",
        "                acc = (np.array(eval) == 10)\n",
        "                b_accuracy += torch.mean(predictions.type(torch.FloatTensor))\n",
        "                accuracy += np.mean(acc)\n",
        "\n",
        "        train_losses.append(train_loss/len(trainloader))\n",
        "        val_losses.append(val_loss.cpu()/len(valloader))\n",
        "\n",
        "        print(\"Epoch: {}/{}  \".format(epoch+1, epochs),\n",
        "              \"Training loss: {:.4f}  \".format(train_loss/len(trainloader)),\n",
        "              \"val loss: {:.4f}  \".format(val_loss/len(valloader)),\n",
        "              \"val binary accuracy: {:.4f}  \".format(b_accuracy/len(valloader)),\n",
        "              \"val accuracy: {:.4f}  \".format(accuracy/len(valloader)))\n",
        "print(f\"training time: {time.time()-t1}\")"
      ]
    },
    {
      "cell_type": "code",
      "source": [
        "import matplotlib.pyplot as plt\n",
        "\n",
        "plt.plot(train_losses, label=\"train losses\")\n",
        "plt.plot(val_losses, label=\"val losses\")\n",
        "plt.legend();"
      ],
      "metadata": {
        "colab": {
          "base_uri": "https://localhost:8080/",
          "height": 430
        },
        "id": "0He_6lXeEBXo",
        "outputId": "e08cd74a-c217-446f-c068-1c9f962f5b4b"
      },
      "execution_count": null,
      "outputs": [
        {
          "output_type": "display_data",
          "data": {
            "text/plain": [
              "<Figure size 640x480 with 1 Axes>"
            ],
            "image/png": "[encoded data removed]"
          },
          "metadata": {}
        }
      ]
    },
    {
      "cell_type": "markdown",
      "source": [
        "# **Evaluation**"
      ],
      "metadata": {
        "id": "4MLyTV0VBCcO"
      }
    },
    {
      "cell_type": "code",
      "execution_count": null,
      "metadata": {
        "id": "e-tjDhArYfgA"
      },
      "outputs": [],
      "source": [
        "model = torch.load('/content/drive/MyDrive/multilabels_data/vgg16.pth')"
      ]
    },
    {
      "cell_type": "code",
      "execution_count": null,
      "metadata": {
        "id": "yX6NjQvwMH45"
      },
      "outputs": [],
      "source": [
        "def predict(fName):\n",
        "    imgPath = f'/content/drive/MyDrive/multilabels_data/testset/{fName}'\n",
        "    trans4test = transforms.Compose([\n",
        "                                    transforms.Resize(240),\n",
        "                                    transforms.CenterCrop(224),\n",
        "                                    transforms.ToTensor(),\n",
        "                                    transforms.Normalize([0.485, 0.456, 0.406], [0.229, 0.224, 0.225])\n",
        "                                    ])\n",
        "    threshold = 0.4\n",
        "    with torch.no_grad():\n",
        "        raw_image = Image.open(imgPath)\n",
        "        trans_image = trans4test(raw_image)\n",
        "        trans_image = trans_image.to(device)\n",
        "\n",
        "        outs = model(trans_image[None])\n",
        "        out_labels = (outs >= threshold).type(torch.IntTensor)\n",
        "        trans_image = trans_image.to('cpu')\n",
        "        out_labels = out_labels.to('cpu')[0]\n",
        "        # line = fName\n",
        "        # for label in out_labels:\n",
        "        #     line += f', {label}'\n",
        "        # return line + \"\\n\"\n",
        "\n",
        "        # plt.imshow(raw_image, cmap='inferno')\n",
        "\n",
        "        labels = [\"Hồ Gươm\", \"Hồ Tây\", \"Tháp Rùa\", \"Cầu Thê Húc\", \"Bưu Điện\", \"Vườn Hoa\", \"Chùa Trấn Quốc\", \"Đền Quán Thánh\", \"Khách Sạn\", \"Công Viên Nước\"]\n",
        "        res = []\n",
        "        for i in range(len(out_labels)):\n",
        "            if out_labels[i] == 1:\n",
        "                res.append(labels[i])"
      ]
    },
    {
      "cell_type": "code",
      "source": [
        "t1 = time.time()\n",
        "for j in range(1,75):\n",
        "    predict(f'{j}.jpg')\n",
        "print(f\"reference time: {(time.time()-t1)/74}\")"
      ],
      "metadata": {
        "id": "H5b7VF0jaMIJ",
        "colab": {
          "base_uri": "https://localhost:8080/"
        },
        "outputId": "47fc4b01-1d34-4ed6-eafa-c6c15b42ccdf"
      },
      "execution_count": null,
      "outputs": [
        {
          "output_type": "stream",
          "name": "stdout",
          "text": [
            "reference time: 0.01624703729474867\n"
          ]
        }
      ]
    }
  ],
  "metadata": {
    "colab": {
      "provenance": [],
      "gpuType": "T4"
    },
    "kernelspec": {
      "display_name": "Python 3",
      "name": "python3"
    },
    "language_info": {
      "name": "python"
    },
    "accelerator": "GPU"
  },
  "nbformat": 4,
  "nbformat_minor": 0
}